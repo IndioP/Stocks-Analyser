{
 "cells": [
  {
   "cell_type": "code",
   "execution_count": 2,
   "metadata": {},
   "outputs": [],
   "source": [
    "import streamlit as st\n",
    "import pandas as pd"
   ]
  },
  {
   "cell_type": "code",
   "execution_count": 3,
   "metadata": {},
   "outputs": [
    {
     "name": "stderr",
     "output_type": "stream",
     "text": [
      "2023-01-23 10:46:10.858 \n",
      "  \u001b[33m\u001b[1mWarning:\u001b[0m to view this Streamlit app on a browser, run it with the following\n",
      "  command:\n",
      "\n",
      "    streamlit run C:\\Users\\ROMILDO\\AppData\\Local\\Packages\\PythonSoftwareFoundation.Python.3.10_qbz5n2kfra8p0\\LocalCache\\local-packages\\Python310\\site-packages\\ipykernel_launcher.py [ARGUMENTS]\n"
     ]
    }
   ],
   "source": [
    "st.title(\"BridgeSystem\")\n",
    "st.write(\"Here's our first attempt at using data to create a table:\")\n",
    "if st.checkbox(\"Show DataFrame: \"):\n",
    "    st.write(pd.DataFrame({\n",
    "        'first column': [1, 2, 3, 4],\n",
    "        'second column': [10, 20, 30, 40]\n",
    "    }))"
   ]
  },
  {
   "cell_type": "code",
   "execution_count": 6,
   "metadata": {},
   "outputs": [],
   "source": [
    "structure = {\n",
    "    \"Tipo da peça\":         [],\n",
    "    \"Dificuldade\":          [],\n",
    "    \"Quantidade\":           [],\n",
    "    \"Custo de produção\":    [],\n",
    "    \"Peças para costurar\":  [],\n",
    "    \"Preço\":                []\n",
    "}\n",
    "\n",
    "df = pd.DataFrame.from_dict(structure)\n",
    "data = [\"Camisa\", 10, 10, 100, 20, 35.5]\n",
    "    \n",
    "df = pd.concat([df, pd.DataFrame.from_dict(\n",
    "    data={x:[y] for x,y in zip(structure.keys(), data)}\n",
    ")])"
   ]
  },
  {
   "cell_type": "code",
   "execution_count": null,
   "metadata": {},
   "outputs": [],
   "source": []
  }
 ],
 "metadata": {
  "kernelspec": {
   "display_name": "Python 3",
   "language": "python",
   "name": "python3"
  },
  "language_info": {
   "codemirror_mode": {
    "name": "ipython",
    "version": 3
   },
   "file_extension": ".py",
   "mimetype": "text/x-python",
   "name": "python",
   "nbconvert_exporter": "python",
   "pygments_lexer": "ipython3",
   "version": "3.10.9 (tags/v3.10.9:1dd9be6, Dec  6 2022, 20:01:21) [MSC v.1934 64 bit (AMD64)]"
  },
  "orig_nbformat": 4,
  "vscode": {
   "interpreter": {
    "hash": "d0f5b17bf2e0ae15bbaa4312450a0fd6c02ab3a236801ce07cd1404e18b674c4"
   }
  }
 },
 "nbformat": 4,
 "nbformat_minor": 2
}
